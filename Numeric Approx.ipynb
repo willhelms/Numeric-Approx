{
 "cells": [
  {
   "cell_type": "code",
   "execution_count": null,
   "metadata": {},
   "outputs": [],
   "source": []
  },
  {
   "cell_type": "code",
   "execution_count": null,
   "metadata": {},
   "outputs": [],
   "source": [
    "class NewtonMethod():\n",
    "    def __init__(self, x1='1', x2='1', x3='1'):\n",
    "    '''\n",
    "    General function :\n",
    "    y = x1 + x2 + x3\n",
    "    \n",
    "    Args :\n",
    "    x1, x2, x3 = string \n",
    "    e.g. 6x2 = \"6x2\"\n",
    "    '''"
   ]
  },
  {
   "cell_type": "code",
   "execution_count": null,
   "metadata": {},
   "outputs": [],
   "source": []
  },
  {
   "cell_type": "code",
   "execution_count": 32,
   "metadata": {},
   "outputs": [],
   "source": [
    "class NewtonMethod():\n",
    "    def __init__(self, x1='1', x2='1', x3='1'):\n",
    "        '''\n",
    "        General function :\n",
    "        x1 + x2 + x3 = 0\n",
    "\n",
    "        Args :\n",
    "        x1, x2, x3 = string \n",
    "        e.g. 6x2 = \"6x2\"\n",
    "\n",
    "        class property:\n",
    "        x1,x2,x3 = variable's constant\n",
    "        orde1, orde2, orde3 = variable's order\n",
    "        \n",
    "        '''\n",
    "\n",
    "        self.x1, self.orde1 = self.splitting_const_order(x1)\n",
    "        self.x2, self.orde2 = self.splitting_const_order(x2)\n",
    "        self.x3, self.orde3 = self.splitting_const_order(x3)\n",
    "        \n",
    "    def splitting_const_order(self, variable):\n",
    "        const = variable.split('x')[0]\n",
    "        if const == \"\":\n",
    "            const = 1\n",
    "        \n",
    "        try:\n",
    "            order = variable.split('x')[1]\n",
    "        except:\n",
    "            order = 0\n",
    "        return int(const), int(order)\n",
    "    \n",
    "    def equation(self):\n",
    "        y = self.x1\n",
    "        \n",
    "    def derivative(self):\n",
    "        orders=[self.orde1, self.order2, self.orde3]\n",
    "        consts = [self.x1, self.x2, self.x3]\n",
    "        y = []\n",
    "        for i in range(3):\n",
    "            if orders[i] == 0:\n",
    "                y.append(0)\n",
    "            else:\n",
    "                y.append((orders[i]-1)*)\n",
    "        "
   ]
  },
  {
   "cell_type": "code",
   "execution_count": 31,
   "metadata": {},
   "outputs": [
    {
     "ename": "IndexError",
     "evalue": "list index out of range",
     "output_type": "error",
     "traceback": [
      "\u001b[1;31m---------------------------------------------------------------------------\u001b[0m",
      "\u001b[1;31mIndexError\u001b[0m                                Traceback (most recent call last)",
      "\u001b[1;32m<ipython-input-31-e1b7775f1754>\u001b[0m in \u001b[0;36m<module>\u001b[1;34m\u001b[0m\n\u001b[1;32m----> 1\u001b[1;33m \u001b[1;34m'1'\u001b[0m\u001b[1;33m.\u001b[0m\u001b[0msplit\u001b[0m\u001b[1;33m(\u001b[0m\u001b[1;34m'x'\u001b[0m\u001b[1;33m)\u001b[0m\u001b[1;33m[\u001b[0m\u001b[1;36m1\u001b[0m\u001b[1;33m]\u001b[0m\u001b[1;33m\u001b[0m\u001b[1;33m\u001b[0m\u001b[0m\n\u001b[0m",
      "\u001b[1;31mIndexError\u001b[0m: list index out of range"
     ]
    }
   ],
   "source": [
    "'1'.split('x')[1]"
   ]
  },
  {
   "cell_type": "code",
   "execution_count": 33,
   "metadata": {},
   "outputs": [],
   "source": [
    "a=NewtonMethod('2')"
   ]
  },
  {
   "cell_type": "code",
   "execution_count": 34,
   "metadata": {},
   "outputs": [
    {
     "data": {
      "text/plain": [
       "2"
      ]
     },
     "execution_count": 34,
     "metadata": {},
     "output_type": "execute_result"
    }
   ],
   "source": [
    "a.x1"
   ]
  },
  {
   "cell_type": "code",
   "execution_count": 35,
   "metadata": {},
   "outputs": [
    {
     "data": {
      "text/plain": [
       "0"
      ]
     },
     "execution_count": 35,
     "metadata": {},
     "output_type": "execute_result"
    }
   ],
   "source": [
    "a.orde1"
   ]
  },
  {
   "cell_type": "code",
   "execution_count": null,
   "metadata": {},
   "outputs": [],
   "source": []
  }
 ],
 "metadata": {
  "kernelspec": {
   "display_name": "Python 3",
   "language": "python",
   "name": "python3"
  },
  "language_info": {
   "codemirror_mode": {
    "name": "ipython",
    "version": 3
   },
   "file_extension": ".py",
   "mimetype": "text/x-python",
   "name": "python",
   "nbconvert_exporter": "python",
   "pygments_lexer": "ipython3",
   "version": "3.7.4"
  }
 },
 "nbformat": 4,
 "nbformat_minor": 2
}
